{
  "nbformat": 4,
  "nbformat_minor": 0,
  "metadata": {
    "colab": {
      "provenance": [],
      "include_colab_link": true
    },
    "kernelspec": {
      "name": "python3",
      "display_name": "Python 3"
    },
    "language_info": {
      "name": "python"
    }
  },
  "cells": [
    {
      "cell_type": "markdown",
      "metadata": {
        "id": "view-in-github",
        "colab_type": "text"
      },
      "source": [
        "<a href=\"https://colab.research.google.com/github/axshay007/Movie_recommender_system/blob/main/Movie_Recommendation_System_using_Machine_Learning_with_Python.ipynb\" target=\"_parent\"><img src=\"https://colab.research.google.com/assets/colab-badge.svg\" alt=\"Open In Colab\"/></a>"
      ]
    },
    {
      "cell_type": "markdown",
      "metadata": {
        "id": "R1oRN_iiHN_7"
      },
      "source": [
        "Importing the dependencies"
      ]
    },
    {
      "cell_type": "code",
      "metadata": {
        "id": "GAGi6hrzFLOb"
      },
      "source": [
        "import numpy as np\n",
        "import pandas as pd\n",
        "import difflib\n",
        "from sklearn.feature_extraction.text import TfidfVectorizer\n",
        "from sklearn.metrics.pairwise import cosine_similarity"
      ],
      "execution_count": null,
      "outputs": []
    },
    {
      "cell_type": "code",
      "source": [
        "#!cd /content/"
      ],
      "metadata": {
        "id": "NNzSPSOJyJ4F"
      },
      "execution_count": null,
      "outputs": []
    },
    {
      "cell_type": "code",
      "source": [
        "#!wget https://drive.google.com/file/d/1cCkwiVv4mgfl20ntgY3n4yApcWqqZQe6/view?usp=sharing"
      ],
      "metadata": {
        "id": "2zLIl8FZyMpX"
      },
      "execution_count": null,
      "outputs": []
    },
    {
      "cell_type": "markdown",
      "metadata": {
        "id": "mfIW1BYVIGfP"
      },
      "source": [
        "Data Collection and Pre-Processing"
      ]
    },
    {
      "cell_type": "code",
      "source": [
        "#data_dir = \"/content/view\""
      ],
      "metadata": {
        "id": "o4WEe48pzPlP"
      },
      "execution_count": null,
      "outputs": []
    },
    {
      "cell_type": "code",
      "metadata": {
        "id": "MOXn7CGdIGBU",
        "colab": {
          "base_uri": "https://localhost:8080/"
        },
        "outputId": "aeebf404-6fe1-40a9-98bb-4da2e16b5c38"
      },
      "source": [
        "# loading the data from the csv file to apandas dataframe\n",
        "movies_data = pd.read_csv('/content/movies dataset.csv',error_bad_lines=False, engine=\"python\")"
      ],
      "execution_count": null,
      "outputs": [
        {
          "output_type": "stream",
          "name": "stderr",
          "text": [
            "<ipython-input-25-5f59d7281585>:2: FutureWarning: The error_bad_lines argument has been deprecated and will be removed in a future version. Use on_bad_lines in the future.\n",
            "\n",
            "\n",
            "  movies_data = pd.read_csv('/content/movies dataset.csv',error_bad_lines=False, engine=\"python\")\n",
            "Skipping line 405: unexpected end of data\n"
          ]
        }
      ]
    },
    {
      "cell_type": "code",
      "metadata": {
        "colab": {
          "base_uri": "https://localhost:8080/",
          "height": 837
        },
        "id": "cha03lDAIa6l",
        "outputId": "655fb89f-8e7d-43ce-a0df-99b260b73b78"
      },
      "source": [
        "# printing the first 5 rows of the dataframe\n",
        "movies_data.head()"
      ],
      "execution_count": null,
      "outputs": [
        {
          "output_type": "execute_result",
          "data": {
            "text/plain": [
              "   index     budget                                    genres  \\\n",
              "0      0  237000000  Action Adventure Fantasy Science Fiction   \n",
              "1      1  300000000                  Adventure Fantasy Action   \n",
              "2      2  245000000                    Action Adventure Crime   \n",
              "3      3  250000000               Action Crime Drama Thriller   \n",
              "4      4  260000000          Action Adventure Science Fiction   \n",
              "\n",
              "                                       homepage      id  \\\n",
              "0                   http://www.avatarmovie.com/   19995   \n",
              "1  http://disney.go.com/disneypictures/pirates/     285   \n",
              "2   http://www.sonypictures.com/movies/spectre/  206647   \n",
              "3            http://www.thedarkknightrises.com/   49026   \n",
              "4          http://movies.disney.com/john-carter   49529   \n",
              "\n",
              "                                            keywords original_language  \\\n",
              "0  culture clash future space war space colony so...                en   \n",
              "1  ocean drug abuse exotic island east india trad...                en   \n",
              "2         spy based on novel secret agent sequel mi6                en   \n",
              "3  dc comics crime fighter terrorist secret ident...                en   \n",
              "4  based on novel mars medallion space travel pri...                en   \n",
              "\n",
              "                             original_title  \\\n",
              "0                                    Avatar   \n",
              "1  Pirates of the Caribbean: At World's End   \n",
              "2                                   Spectre   \n",
              "3                     The Dark Knight Rises   \n",
              "4                               John Carter   \n",
              "\n",
              "                                            overview  popularity  ... runtime  \\\n",
              "0  In the 22nd century, a paraplegic Marine is di...  150.437577  ...   162.0   \n",
              "1  Captain Barbossa, long believed to be dead, ha...  139.082615  ...   169.0   \n",
              "2  A cryptic message from Bond’s past sends him o...  107.376788  ...   148.0   \n",
              "3  Following the death of District Attorney Harve...  112.312950  ...   165.0   \n",
              "4  John Carter is a war-weary, former military ca...   43.926995  ...   132.0   \n",
              "\n",
              "                                    spoken_languages    status  \\\n",
              "0  [{\"iso_639_1\": \"en\", \"name\": \"English\"}, {\"iso...  Released   \n",
              "1           [{\"iso_639_1\": \"en\", \"name\": \"English\"}]  Released   \n",
              "2  [{\"iso_639_1\": \"fr\", \"name\": \"Fran\\u00e7ais\"},...  Released   \n",
              "3           [{\"iso_639_1\": \"en\", \"name\": \"English\"}]  Released   \n",
              "4           [{\"iso_639_1\": \"en\", \"name\": \"English\"}]  Released   \n",
              "\n",
              "                                          tagline  \\\n",
              "0                     Enter the World of Pandora.   \n",
              "1  At the end of the world, the adventure begins.   \n",
              "2                           A Plan No One Escapes   \n",
              "3                                 The Legend Ends   \n",
              "4            Lost in our world, found in another.   \n",
              "\n",
              "                                      title vote_average vote_count  \\\n",
              "0                                    Avatar          7.2      11800   \n",
              "1  Pirates of the Caribbean: At World's End          6.9       4500   \n",
              "2                                   Spectre          6.3       4466   \n",
              "3                     The Dark Knight Rises          7.6       9106   \n",
              "4                               John Carter          6.1       2124   \n",
              "\n",
              "                                                cast  \\\n",
              "0  Sam Worthington Zoe Saldana Sigourney Weaver S...   \n",
              "1  Johnny Depp Orlando Bloom Keira Knightley Stel...   \n",
              "2  Daniel Craig Christoph Waltz L\\u00e9a Seydoux ...   \n",
              "3  Christian Bale Michael Caine Gary Oldman Anne ...   \n",
              "4  Taylor Kitsch Lynn Collins Samantha Morton Wil...   \n",
              "\n",
              "                                                crew           director  \n",
              "0  [{'name': 'Stephen E. Rivkin', 'gender': 0, 'd...      James Cameron  \n",
              "1  [{'name': 'Dariusz Wolski', 'gender': 2, 'depa...     Gore Verbinski  \n",
              "2  [{'name': 'Thomas Newman', 'gender': 2, 'depar...         Sam Mendes  \n",
              "3  [{'name': 'Hans Zimmer', 'gender': 2, 'departm...  Christopher Nolan  \n",
              "4  [{'name': 'Andrew Stanton', 'gender': 2, 'depa...     Andrew Stanton  \n",
              "\n",
              "[5 rows x 24 columns]"
            ],
            "text/html": [
              "\n",
              "  <div id=\"df-c151ad97-69b6-4e51-8ab1-77f364428974\">\n",
              "    <div class=\"colab-df-container\">\n",
              "      <div>\n",
              "<style scoped>\n",
              "    .dataframe tbody tr th:only-of-type {\n",
              "        vertical-align: middle;\n",
              "    }\n",
              "\n",
              "    .dataframe tbody tr th {\n",
              "        vertical-align: top;\n",
              "    }\n",
              "\n",
              "    .dataframe thead th {\n",
              "        text-align: right;\n",
              "    }\n",
              "</style>\n",
              "<table border=\"1\" class=\"dataframe\">\n",
              "  <thead>\n",
              "    <tr style=\"text-align: right;\">\n",
              "      <th></th>\n",
              "      <th>index</th>\n",
              "      <th>budget</th>\n",
              "      <th>genres</th>\n",
              "      <th>homepage</th>\n",
              "      <th>id</th>\n",
              "      <th>keywords</th>\n",
              "      <th>original_language</th>\n",
              "      <th>original_title</th>\n",
              "      <th>overview</th>\n",
              "      <th>popularity</th>\n",
              "      <th>...</th>\n",
              "      <th>runtime</th>\n",
              "      <th>spoken_languages</th>\n",
              "      <th>status</th>\n",
              "      <th>tagline</th>\n",
              "      <th>title</th>\n",
              "      <th>vote_average</th>\n",
              "      <th>vote_count</th>\n",
              "      <th>cast</th>\n",
              "      <th>crew</th>\n",
              "      <th>director</th>\n",
              "    </tr>\n",
              "  </thead>\n",
              "  <tbody>\n",
              "    <tr>\n",
              "      <th>0</th>\n",
              "      <td>0</td>\n",
              "      <td>237000000</td>\n",
              "      <td>Action Adventure Fantasy Science Fiction</td>\n",
              "      <td>http://www.avatarmovie.com/</td>\n",
              "      <td>19995</td>\n",
              "      <td>culture clash future space war space colony so...</td>\n",
              "      <td>en</td>\n",
              "      <td>Avatar</td>\n",
              "      <td>In the 22nd century, a paraplegic Marine is di...</td>\n",
              "      <td>150.437577</td>\n",
              "      <td>...</td>\n",
              "      <td>162.0</td>\n",
              "      <td>[{\"iso_639_1\": \"en\", \"name\": \"English\"}, {\"iso...</td>\n",
              "      <td>Released</td>\n",
              "      <td>Enter the World of Pandora.</td>\n",
              "      <td>Avatar</td>\n",
              "      <td>7.2</td>\n",
              "      <td>11800</td>\n",
              "      <td>Sam Worthington Zoe Saldana Sigourney Weaver S...</td>\n",
              "      <td>[{'name': 'Stephen E. Rivkin', 'gender': 0, 'd...</td>\n",
              "      <td>James Cameron</td>\n",
              "    </tr>\n",
              "    <tr>\n",
              "      <th>1</th>\n",
              "      <td>1</td>\n",
              "      <td>300000000</td>\n",
              "      <td>Adventure Fantasy Action</td>\n",
              "      <td>http://disney.go.com/disneypictures/pirates/</td>\n",
              "      <td>285</td>\n",
              "      <td>ocean drug abuse exotic island east india trad...</td>\n",
              "      <td>en</td>\n",
              "      <td>Pirates of the Caribbean: At World's End</td>\n",
              "      <td>Captain Barbossa, long believed to be dead, ha...</td>\n",
              "      <td>139.082615</td>\n",
              "      <td>...</td>\n",
              "      <td>169.0</td>\n",
              "      <td>[{\"iso_639_1\": \"en\", \"name\": \"English\"}]</td>\n",
              "      <td>Released</td>\n",
              "      <td>At the end of the world, the adventure begins.</td>\n",
              "      <td>Pirates of the Caribbean: At World's End</td>\n",
              "      <td>6.9</td>\n",
              "      <td>4500</td>\n",
              "      <td>Johnny Depp Orlando Bloom Keira Knightley Stel...</td>\n",
              "      <td>[{'name': 'Dariusz Wolski', 'gender': 2, 'depa...</td>\n",
              "      <td>Gore Verbinski</td>\n",
              "    </tr>\n",
              "    <tr>\n",
              "      <th>2</th>\n",
              "      <td>2</td>\n",
              "      <td>245000000</td>\n",
              "      <td>Action Adventure Crime</td>\n",
              "      <td>http://www.sonypictures.com/movies/spectre/</td>\n",
              "      <td>206647</td>\n",
              "      <td>spy based on novel secret agent sequel mi6</td>\n",
              "      <td>en</td>\n",
              "      <td>Spectre</td>\n",
              "      <td>A cryptic message from Bond’s past sends him o...</td>\n",
              "      <td>107.376788</td>\n",
              "      <td>...</td>\n",
              "      <td>148.0</td>\n",
              "      <td>[{\"iso_639_1\": \"fr\", \"name\": \"Fran\\u00e7ais\"},...</td>\n",
              "      <td>Released</td>\n",
              "      <td>A Plan No One Escapes</td>\n",
              "      <td>Spectre</td>\n",
              "      <td>6.3</td>\n",
              "      <td>4466</td>\n",
              "      <td>Daniel Craig Christoph Waltz L\\u00e9a Seydoux ...</td>\n",
              "      <td>[{'name': 'Thomas Newman', 'gender': 2, 'depar...</td>\n",
              "      <td>Sam Mendes</td>\n",
              "    </tr>\n",
              "    <tr>\n",
              "      <th>3</th>\n",
              "      <td>3</td>\n",
              "      <td>250000000</td>\n",
              "      <td>Action Crime Drama Thriller</td>\n",
              "      <td>http://www.thedarkknightrises.com/</td>\n",
              "      <td>49026</td>\n",
              "      <td>dc comics crime fighter terrorist secret ident...</td>\n",
              "      <td>en</td>\n",
              "      <td>The Dark Knight Rises</td>\n",
              "      <td>Following the death of District Attorney Harve...</td>\n",
              "      <td>112.312950</td>\n",
              "      <td>...</td>\n",
              "      <td>165.0</td>\n",
              "      <td>[{\"iso_639_1\": \"en\", \"name\": \"English\"}]</td>\n",
              "      <td>Released</td>\n",
              "      <td>The Legend Ends</td>\n",
              "      <td>The Dark Knight Rises</td>\n",
              "      <td>7.6</td>\n",
              "      <td>9106</td>\n",
              "      <td>Christian Bale Michael Caine Gary Oldman Anne ...</td>\n",
              "      <td>[{'name': 'Hans Zimmer', 'gender': 2, 'departm...</td>\n",
              "      <td>Christopher Nolan</td>\n",
              "    </tr>\n",
              "    <tr>\n",
              "      <th>4</th>\n",
              "      <td>4</td>\n",
              "      <td>260000000</td>\n",
              "      <td>Action Adventure Science Fiction</td>\n",
              "      <td>http://movies.disney.com/john-carter</td>\n",
              "      <td>49529</td>\n",
              "      <td>based on novel mars medallion space travel pri...</td>\n",
              "      <td>en</td>\n",
              "      <td>John Carter</td>\n",
              "      <td>John Carter is a war-weary, former military ca...</td>\n",
              "      <td>43.926995</td>\n",
              "      <td>...</td>\n",
              "      <td>132.0</td>\n",
              "      <td>[{\"iso_639_1\": \"en\", \"name\": \"English\"}]</td>\n",
              "      <td>Released</td>\n",
              "      <td>Lost in our world, found in another.</td>\n",
              "      <td>John Carter</td>\n",
              "      <td>6.1</td>\n",
              "      <td>2124</td>\n",
              "      <td>Taylor Kitsch Lynn Collins Samantha Morton Wil...</td>\n",
              "      <td>[{'name': 'Andrew Stanton', 'gender': 2, 'depa...</td>\n",
              "      <td>Andrew Stanton</td>\n",
              "    </tr>\n",
              "  </tbody>\n",
              "</table>\n",
              "<p>5 rows × 24 columns</p>\n",
              "</div>\n",
              "      <button class=\"colab-df-convert\" onclick=\"convertToInteractive('df-c151ad97-69b6-4e51-8ab1-77f364428974')\"\n",
              "              title=\"Convert this dataframe to an interactive table.\"\n",
              "              style=\"display:none;\">\n",
              "        \n",
              "  <svg xmlns=\"http://www.w3.org/2000/svg\" height=\"24px\"viewBox=\"0 0 24 24\"\n",
              "       width=\"24px\">\n",
              "    <path d=\"M0 0h24v24H0V0z\" fill=\"none\"/>\n",
              "    <path d=\"M18.56 5.44l.94 2.06.94-2.06 2.06-.94-2.06-.94-.94-2.06-.94 2.06-2.06.94zm-11 1L8.5 8.5l.94-2.06 2.06-.94-2.06-.94L8.5 2.5l-.94 2.06-2.06.94zm10 10l.94 2.06.94-2.06 2.06-.94-2.06-.94-.94-2.06-.94 2.06-2.06.94z\"/><path d=\"M17.41 7.96l-1.37-1.37c-.4-.4-.92-.59-1.43-.59-.52 0-1.04.2-1.43.59L10.3 9.45l-7.72 7.72c-.78.78-.78 2.05 0 2.83L4 21.41c.39.39.9.59 1.41.59.51 0 1.02-.2 1.41-.59l7.78-7.78 2.81-2.81c.8-.78.8-2.07 0-2.86zM5.41 20L4 18.59l7.72-7.72 1.47 1.35L5.41 20z\"/>\n",
              "  </svg>\n",
              "      </button>\n",
              "      \n",
              "  <style>\n",
              "    .colab-df-container {\n",
              "      display:flex;\n",
              "      flex-wrap:wrap;\n",
              "      gap: 12px;\n",
              "    }\n",
              "\n",
              "    .colab-df-convert {\n",
              "      background-color: #E8F0FE;\n",
              "      border: none;\n",
              "      border-radius: 50%;\n",
              "      cursor: pointer;\n",
              "      display: none;\n",
              "      fill: #1967D2;\n",
              "      height: 32px;\n",
              "      padding: 0 0 0 0;\n",
              "      width: 32px;\n",
              "    }\n",
              "\n",
              "    .colab-df-convert:hover {\n",
              "      background-color: #E2EBFA;\n",
              "      box-shadow: 0px 1px 2px rgba(60, 64, 67, 0.3), 0px 1px 3px 1px rgba(60, 64, 67, 0.15);\n",
              "      fill: #174EA6;\n",
              "    }\n",
              "\n",
              "    [theme=dark] .colab-df-convert {\n",
              "      background-color: #3B4455;\n",
              "      fill: #D2E3FC;\n",
              "    }\n",
              "\n",
              "    [theme=dark] .colab-df-convert:hover {\n",
              "      background-color: #434B5C;\n",
              "      box-shadow: 0px 1px 3px 1px rgba(0, 0, 0, 0.15);\n",
              "      filter: drop-shadow(0px 1px 2px rgba(0, 0, 0, 0.3));\n",
              "      fill: #FFFFFF;\n",
              "    }\n",
              "  </style>\n",
              "\n",
              "      <script>\n",
              "        const buttonEl =\n",
              "          document.querySelector('#df-c151ad97-69b6-4e51-8ab1-77f364428974 button.colab-df-convert');\n",
              "        buttonEl.style.display =\n",
              "          google.colab.kernel.accessAllowed ? 'block' : 'none';\n",
              "\n",
              "        async function convertToInteractive(key) {\n",
              "          const element = document.querySelector('#df-c151ad97-69b6-4e51-8ab1-77f364428974');\n",
              "          const dataTable =\n",
              "            await google.colab.kernel.invokeFunction('convertToInteractive',\n",
              "                                                     [key], {});\n",
              "          if (!dataTable) return;\n",
              "\n",
              "          const docLinkHtml = 'Like what you see? Visit the ' +\n",
              "            '<a target=\"_blank\" href=https://colab.research.google.com/notebooks/data_table.ipynb>data table notebook</a>'\n",
              "            + ' to learn more about interactive tables.';\n",
              "          element.innerHTML = '';\n",
              "          dataTable['output_type'] = 'display_data';\n",
              "          await google.colab.output.renderOutput(dataTable, element);\n",
              "          const docLink = document.createElement('div');\n",
              "          docLink.innerHTML = docLinkHtml;\n",
              "          element.appendChild(docLink);\n",
              "        }\n",
              "      </script>\n",
              "    </div>\n",
              "  </div>\n",
              "  "
            ]
          },
          "metadata": {},
          "execution_count": 26
        }
      ]
    },
    {
      "cell_type": "code",
      "metadata": {
        "colab": {
          "base_uri": "https://localhost:8080/"
        },
        "id": "Qrtr0oQbIjwF",
        "outputId": "c01323df-5e7f-44ab-a26c-582b1c0f5abb"
      },
      "source": [
        "# number of rows and columns in the data frame\n",
        "\n",
        "movies_data.shape"
      ],
      "execution_count": null,
      "outputs": [
        {
          "output_type": "execute_result",
          "data": {
            "text/plain": [
              "(4803, 24)"
            ]
          },
          "metadata": {},
          "execution_count": 4
        }
      ]
    },
    {
      "cell_type": "code",
      "metadata": {
        "colab": {
          "base_uri": "https://localhost:8080/"
        },
        "id": "hunvyruUJhVq",
        "outputId": "831b38e5-d014-4fef-c657-2ca9da9155b5"
      },
      "source": [
        "# selecting the relevant features for recommendation\n",
        "\n",
        "selected_features = ['genres','keywords','tagline','cast','director','genres']\n",
        "print(selected_features)"
      ],
      "execution_count": null,
      "outputs": [
        {
          "output_type": "stream",
          "name": "stdout",
          "text": [
            "['genres', 'keywords', 'tagline', 'cast', 'director', 'genres']\n"
          ]
        }
      ]
    },
    {
      "cell_type": "code",
      "metadata": {
        "id": "CKIVE6OWKSYk"
      },
      "source": [
        "# replacing the null valuess with null string\n",
        "\n",
        "for feature in selected_features:\n",
        "  movies_data[feature] = movies_data[feature].fillna('')"
      ],
      "execution_count": null,
      "outputs": []
    },
    {
      "cell_type": "code",
      "metadata": {
        "id": "-AMjrRItLCO1"
      },
      "source": [
        "# combining all the 5 selected features\n",
        "\n",
        "combined_features = movies_data['genres']+' '+movies_data['keywords']+' '+movies_data['tagline']+' '+movies_data['cast']+' '+movies_data['director']+' '+movies_data['genres']"
      ],
      "execution_count": null,
      "outputs": []
    },
    {
      "cell_type": "code",
      "metadata": {
        "colab": {
          "base_uri": "https://localhost:8080/"
        },
        "id": "ZYjFXx3aLwTh",
        "outputId": "3e03aea0-4de9-423e-e0e1-a0ddd74c7297"
      },
      "source": [
        "print(combined_features)"
      ],
      "execution_count": null,
      "outputs": [
        {
          "output_type": "stream",
          "name": "stdout",
          "text": [
            "0      Action Adventure Fantasy Science Fiction cultu...\n",
            "1      Adventure Fantasy Action ocean drug abuse exot...\n",
            "2      Action Adventure Crime spy based on novel secr...\n",
            "3      Action Crime Drama Thriller dc comics crime fi...\n",
            "4      Action Adventure Science Fiction based on nove...\n",
            "                             ...                        \n",
            "398    Crime Thriller casino thief revenge heist las ...\n",
            "399    Adventure Animation Family hunter mountains ga...\n",
            "400    Adventure Action Science Fiction based on nove...\n",
            "401    War winter sniper world war ii stalingrad Some...\n",
            "402    Adventure Action Comedy Thriller hunter bounty...\n",
            "Length: 403, dtype: object\n"
          ]
        }
      ]
    },
    {
      "cell_type": "code",
      "metadata": {
        "id": "BfuttC_gLyfF"
      },
      "source": [
        "# converting the text data to feature vectors\n",
        "\n",
        "vectorizer = TfidfVectorizer()"
      ],
      "execution_count": null,
      "outputs": []
    },
    {
      "cell_type": "code",
      "metadata": {
        "id": "Leo5rQskMKxL"
      },
      "source": [
        "feature_vectors = vectorizer.fit_transform(combined_features)"
      ],
      "execution_count": null,
      "outputs": []
    },
    {
      "cell_type": "code",
      "metadata": {
        "colab": {
          "base_uri": "https://localhost:8080/"
        },
        "id": "qNbeeMSnMb2F",
        "outputId": "b378e1b8-0fcc-4632-ec7c-01cda108e749"
      },
      "source": [
        "print(feature_vectors)"
      ],
      "execution_count": null,
      "outputs": [
        {
          "output_type": "stream",
          "name": "stdout",
          "text": [
            "  (0, 478)\t0.16332843197248753\n",
            "  (0, 1598)\t0.12015474777335367\n",
            "  (0, 2644)\t0.20672060339802806\n",
            "  (0, 2077)\t0.1768662159263527\n",
            "  (0, 1787)\t0.23223880963763327\n",
            "  (0, 2969)\t0.19179340966219038\n",
            "  (0, 3392)\t0.23223880963763327\n",
            "  (0, 2856)\t0.23223880963763327\n",
            "  (0, 2706)\t0.19850557587836917\n",
            "  (0, 3525)\t0.19850557587836917\n",
            "  (0, 3477)\t0.19850557587836917\n",
            "  (0, 2712)\t0.14567295401295885\n",
            "  (0, 2341)\t0.2173116159017956\n",
            "  (0, 2269)\t0.10296130084729727\n",
            "  (0, 3473)\t0.1192884727560496\n",
            "  (0, 3104)\t0.0693381269296274\n",
            "  (0, 1004)\t0.23223880963763327\n",
            "  (0, 2898)\t0.19179340966219038\n",
            "  (0, 633)\t0.2173116159017956\n",
            "  (0, 3362)\t0.13133481267729505\n",
            "  (0, 2921)\t0.28792064024287095\n",
            "  (0, 1203)\t0.15134800968674755\n",
            "  (0, 602)\t0.2173116159017956\n",
            "  (0, 741)\t0.23223880963763327\n",
            "  (0, 1101)\t0.1648752640432036\n",
            "  :\t:\n",
            "  (402, 2586)\t0.20614907701467505\n",
            "  (402, 1010)\t0.20614907701467505\n",
            "  (402, 2770)\t0.20614907701467505\n",
            "  (402, 3350)\t0.20614907701467505\n",
            "  (402, 788)\t0.19610208784089236\n",
            "  (402, 2661)\t0.19610208784089236\n",
            "  (402, 1502)\t0.36388330384718576\n",
            "  (402, 380)\t0.4122981540293501\n",
            "  (402, 90)\t0.20614907701467505\n",
            "  (402, 550)\t0.19610208784089236\n",
            "  (402, 1645)\t0.16778121600629342\n",
            "  (402, 925)\t0.17655810404326647\n",
            "  (402, 312)\t0.19610208784089236\n",
            "  (402, 1105)\t0.15773422683251073\n",
            "  (402, 2764)\t0.13352680174142859\n",
            "  (402, 2393)\t0.1294133549979118\n",
            "  (402, 640)\t0.16950008457628138\n",
            "  (402, 3432)\t0.14994117659081013\n",
            "  (402, 1668)\t0.15493882074209103\n",
            "  (402, 3145)\t0.11005464448431024\n",
            "  (402, 584)\t0.15493882074209103\n",
            "  (402, 3127)\t0.15945680735787568\n",
            "  (402, 3104)\t0.06577646946828933\n",
            "  (402, 34)\t0.10622295245296307\n",
            "  (402, 22)\t0.10769348812089065\n"
          ]
        }
      ]
    },
    {
      "cell_type": "markdown",
      "metadata": {
        "id": "qEGga5yPMnXO"
      },
      "source": [
        "Cosine Similarity"
      ]
    },
    {
      "cell_type": "code",
      "metadata": {
        "id": "MsKYCs31MeB6"
      },
      "source": [
        "# getting the similarity scores using cosine similarity\n",
        "\n",
        "similarity = cosine_similarity(feature_vectors)"
      ],
      "execution_count": null,
      "outputs": []
    },
    {
      "cell_type": "code",
      "metadata": {
        "colab": {
          "base_uri": "https://localhost:8080/"
        },
        "id": "46ha1PfTM-oQ",
        "outputId": "e763d3ba-3193-4877-df13-4ac062c7ae89"
      },
      "source": [
        "print(similarity)"
      ],
      "execution_count": null,
      "outputs": [
        {
          "output_type": "stream",
          "name": "stdout",
          "text": [
            "[[1.         0.0992076  0.05052025 ... 0.10789183 0.06442285 0.02868099]\n",
            " [0.0992076  1.         0.04685734 ... 0.02642903 0.01257885 0.03960659]\n",
            " [0.05052025 0.04685734 1.         ... 0.06182082 0.0347235  0.02612304]\n",
            " ...\n",
            " [0.10789183 0.02642903 0.06182082 ... 1.         0.         0.0222164 ]\n",
            " [0.06442285 0.01257885 0.0347235  ... 0.         1.         0.01246725]\n",
            " [0.02868099 0.03960659 0.02612304 ... 0.0222164  0.01246725 1.        ]]\n"
          ]
        }
      ]
    },
    {
      "cell_type": "code",
      "metadata": {
        "colab": {
          "base_uri": "https://localhost:8080/"
        },
        "id": "PLkvII-wM_5I",
        "outputId": "2b317a39-b6dc-4b5b-8002-c7675ff312c1"
      },
      "source": [
        "print(similarity.shape)"
      ],
      "execution_count": null,
      "outputs": [
        {
          "output_type": "stream",
          "name": "stdout",
          "text": [
            "(403, 403)\n"
          ]
        }
      ]
    },
    {
      "cell_type": "markdown",
      "metadata": {
        "id": "EG3JItMUWeDD"
      },
      "source": [
        "Getting the movie name from the user"
      ]
    },
    {
      "cell_type": "code",
      "metadata": {
        "colab": {
          "base_uri": "https://localhost:8080/"
        },
        "id": "bhSWJgqgNDo7",
        "outputId": "5983147a-8bcb-46b1-834e-fa3c988e6f7f"
      },
      "source": [
        "# getting the movie name from the user\n",
        "\n",
        "movie_name = input(' Enter your favourite movie name : ')"
      ],
      "execution_count": null,
      "outputs": [
        {
          "name": "stdout",
          "output_type": "stream",
          "text": [
            " Enter your favourite movie name : conjuring\n"
          ]
        }
      ]
    },
    {
      "cell_type": "code",
      "metadata": {
        "colab": {
          "base_uri": "https://localhost:8080/"
        },
        "id": "VQ8Qvu8vNj4U",
        "outputId": "af1c0e1a-0a84-4139-d193-09ae3f4e90e3"
      },
      "source": [
        "# creating a list with all the movie names given in the dataset\n",
        "\n",
        "\n",
        "list_of_all_titles = movies_data['title'].tolist()\n",
        "print(list_of_all_titles)"
      ],
      "execution_count": null,
      "outputs": [
        {
          "output_type": "stream",
          "name": "stdout",
          "text": [
            "['Avatar', \"Pirates of the Caribbean: At World's End\", 'Spectre', 'The Dark Knight Rises', 'John Carter', 'Spider-Man 3', 'Tangled', 'Avengers: Age of Ultron', 'Harry Potter and the Half-Blood Prince', 'Batman v Superman: Dawn of Justice', 'Superman Returns', 'Quantum of Solace', \"Pirates of the Caribbean: Dead Man's Chest\", 'The Lone Ranger', 'Man of Steel', 'The Chronicles of Narnia: Prince Caspian', 'The Avengers', 'Pirates of the Caribbean: On Stranger Tides', 'Men in Black 3', 'The Hobbit: The Battle of the Five Armies', 'The Amazing Spider-Man', 'Robin Hood', 'The Hobbit: The Desolation of Smaug', 'The Golden Compass', 'King Kong', 'Titanic', 'Captain America: Civil War', 'Battleship', 'Jurassic World', 'Skyfall', 'Spider-Man 2', 'Iron Man 3', 'Alice in Wonderland', 'X-Men: The Last Stand', 'Monsters University', 'Transformers: Revenge of the Fallen', 'Transformers: Age of Extinction', 'Oz: The Great and Powerful', 'The Amazing Spider-Man 2', 'TRON: Legacy', 'Cars 2', 'Green Lantern', 'Toy Story 3', 'Terminator Salvation', 'Furious 7', 'World War Z', 'X-Men: Days of Future Past', 'Star Trek Into Darkness', 'Jack the Giant Slayer', 'The Great Gatsby', 'Prince of Persia: The Sands of Time', 'Pacific Rim', 'Transformers: Dark of the Moon', 'Indiana Jones and the Kingdom of the Crystal Skull', 'The Good Dinosaur', 'Brave', 'Star Trek Beyond', 'WALL·E', 'Rush Hour 3', '2012', 'A Christmas Carol', 'Jupiter Ascending', 'The Legend of Tarzan', 'The Chronicles of Narnia: The Lion, the Witch and the Wardrobe', 'X-Men: Apocalypse', 'The Dark Knight', 'Up', 'Monsters vs Aliens', 'Iron Man', 'Hugo', 'Wild Wild West', 'The Mummy: Tomb of the Dragon Emperor', 'Suicide Squad', 'Evan Almighty', 'Edge of Tomorrow', 'Waterworld', 'G.I. Joe: The Rise of Cobra', 'Inside Out', 'The Jungle Book', 'Iron Man 2', 'Snow White and the Huntsman', 'Maleficent', 'Dawn of the Planet of the Apes', 'The Lovers', '47 Ronin', 'Captain America: The Winter Soldier', 'Shrek Forever After', 'Tomorrowland', 'Big Hero 6', 'Wreck-It Ralph', 'The Polar Express', 'Independence Day: Resurgence', 'How to Train Your Dragon', 'Terminator 3: Rise of the Machines', 'Guardians of the Galaxy', 'Interstellar', 'Inception', 'Shin Godzilla', 'The Hobbit: An Unexpected Journey', 'The Fast and the Furious', 'The Curious Case of Benjamin Button', 'X-Men: First Class', 'The Hunger Games: Mockingjay - Part 2', \"The Sorcerer's Apprentice\", 'Poseidon', 'Alice Through the Looking Glass', 'Shrek the Third', 'Warcraft', 'Terminator Genisys', 'The Chronicles of Narnia: The Voyage of the Dawn Treader', 'Pearl Harbor', 'Transformers', 'Alexander', 'Harry Potter and the Order of the Phoenix', 'Harry Potter and the Goblet of Fire', 'Hancock', 'I Am Legend', 'Charlie and the Chocolate Factory', 'Ratatouille', 'Batman Begins', 'Madagascar: Escape 2 Africa', 'Night at the Museum: Battle of the Smithsonian', 'X-Men Origins: Wolverine', 'The Matrix Revolutions', 'Frozen', 'The Matrix Reloaded', 'Thor: The Dark World', 'Mad Max: Fury Road', 'Angels & Demons', 'Thor', 'Bolt', 'G-Force', 'Wrath of the Titans', 'Dark Shadows', 'Mission: Impossible - Rogue Nation', 'The Wolfman', 'Bee Movie', 'Kung Fu Panda 2', 'The Last Airbender', 'Mission: Impossible III', 'White House Down', 'Mars Needs Moms', 'Flushed Away', 'Pan', 'Mr. Peabody & Sherman', 'Troy', \"Madagascar 3: Europe's Most Wanted\", 'Die Another Day', 'Ghostbusters', 'Armageddon', 'Men in Black II', 'Beowulf', 'Kung Fu Panda 3', 'Mission: Impossible - Ghost Protocol', 'Rise of the Guardians', 'Fun with Dick and Jane', 'The Last Samurai', 'Exodus: Gods and Kings', 'Star Trek', 'Spider-Man', 'How to Train Your Dragon 2', 'Gods of Egypt', 'Stealth', 'Watchmen', 'Lethal Weapon 4', 'Hulk', 'G.I. Joe: Retaliation', 'Sahara', 'Final Fantasy: The Spirits Within', 'Captain America: The First Avenger', 'The World Is Not Enough', 'Master and Commander: The Far Side of the World', 'The Twilight Saga: Breaking Dawn - Part 2', 'Happy Feet Two', 'The Incredible Hulk', 'The BFG', 'The Revenant', 'Turbo', 'Rango', 'Penguins of Madagascar', 'The Bourne Ultimatum', 'Kung Fu Panda', 'Ant-Man', 'The Hunger Games: Catching Fire', 'Home', 'War of the Worlds', 'Bad Boys II', 'Puss in Boots', 'Salt', 'Noah', 'The Adventures of Tintin', 'Harry Potter and the Prisoner of Azkaban', 'Australia', 'After Earth', 'Dinosaur', 'Night at the Museum: Secret of the Tomb', 'Megamind', \"Harry Potter and the Philosopher's Stone\", 'R.I.P.D.', 'Pirates of the Caribbean: The Curse of the Black Pearl', 'The Hunger Games: Mockingjay - Part 1', 'The Da Vinci Code', 'Rio 2', 'X2', 'Fast Five', 'Sherlock Holmes: A Game of Shadows', 'Clash of the Titans', 'Total Recall', 'The 13th Warrior', 'The Bourne Legacy', 'Batman & Robin', 'How the Grinch Stole Christmas', 'The Day After Tomorrow', 'Mission: Impossible II', 'The Perfect Storm', 'Fantastic 4: Rise of the Silver Surfer', 'Life of Pi', 'Ghost Rider', 'Jason Bourne', \"Charlie's Angels: Full Throttle\", 'Prometheus', 'Stuart Little 2', 'Elysium', 'The Chronicles of Riddick', 'RoboCop', 'Speed Racer', 'How Do You Know', 'Knight and Day', 'Oblivion', 'Star Wars: Episode III - Revenge of the Sith', 'Star Wars: Episode II - Attack of the Clones', 'Monsters, Inc.', 'The Wolverine', 'Star Wars: Episode I - The Phantom Menace', 'The Croods', 'Asterix at the Olympic Games', 'Windtalkers', \"The Huntsman: Winter's War\", 'Teenage Mutant Ninja Turtles', 'Gravity', \"Dante's Peak\", 'Teenage Mutant Ninja Turtles: Out of the Shadows', 'Fantastic Four', 'Night at the Museum', 'San Andreas', 'Tomorrow Never Dies', 'The Patriot', \"Ocean's Twelve\", 'Mr. & Mrs. Smith', 'Insurgent', 'The Aviator', \"Gulliver's Travels\", 'The Green Hornet', '300: Rise of an Empire', 'The Smurfs', 'Home on the Range', 'Allegiant', 'Real Steel', 'The Smurfs 2', 'Speed 2: Cruise Control', \"Ender's Game\", 'Live Free or Die Hard', 'The Lord of the Rings: The Fellowship of the Ring', 'Around the World in 80 Days', 'Ali', 'The Cat in the Hat', 'I, Robot', 'Kingdom of Heaven', 'Stuart Little', 'The Princess and the Frog', 'The Martian', 'The Island', 'Town & Country', 'Gone in Sixty Seconds', 'Gladiator', 'Minority Report', 'Harry Potter and the Chamber of Secrets', 'Casino Royale', 'Planet of the Apes', 'Terminator 2: Judgment Day', 'Public Enemies', 'American Gangster', 'True Lies', 'The Taking of Pelham 1 2 3', 'Little Fockers', 'The Other Guys', 'Eraser', 'Django Unchained', 'The Hunchback of Notre Dame', \"The Emperor's New Groove\", 'The Expendables 2', 'National Treasure', 'Eragon', 'Where the Wild Things Are', 'Epic', 'The Tourist', 'End of Days', 'Blood Diamond', 'The Wolf of Wall Street', 'Batman Forever', 'Starship Troopers', 'Cloud Atlas', \"Legend of the Guardians: The Owls of Ga'Hoole\", 'Catwoman', 'Hercules', 'Treasure Planet', 'Land of the Lost', 'The Expendables 3', 'Point Break', 'Son of the Mask', 'In the Heart of the Sea', 'The Adventures of Pluto Nash', 'Green Zone', 'The Peanuts Movie', 'The Spanish Prisoner', 'The Mummy Returns', 'Gangs of New York', 'The Flowers of War', \"Surf's Up\", 'The Stepford Wives', 'Black Hawk Down', 'The Campaign', 'The Fifth Element', 'Sex and the City 2', 'The Road to El Dorado', 'Ice Age: Continental Drift', 'Cinderella', 'The Lovely Bones', 'Finding Nemo', 'The Lord of the Rings: The Return of the King', 'The Lord of the Rings: The Two Towers', 'Seventh Son', 'Lara Croft: Tomb Raider', 'Transcendence', 'Jurassic Park III', 'Rise of the Planet of the Apes', 'The Spiderwick Chronicles', 'A Good Day to Die Hard', 'The Alamo', 'The Incredibles', 'Cutthroat Island', 'Percy Jackson & the Olympians: The Lightning Thief', 'Men in Black', 'Toy Story 2', 'Unstoppable', 'Rush Hour 2', 'What Lies Beneath', 'Cloudy with a Chance of Meatballs', 'Ice Age: Dawn of the Dinosaurs', 'The Secret Life of Walter Mitty', \"Charlie's Angels\", 'The Departed', 'Mulan', 'Tropic Thunder', 'The Girl with the Dragon Tattoo', 'Die Hard: With a Vengeance', 'Sherlock Holmes', 'Ben-Hur', 'Atlantis: The Lost Empire', 'Alvin and the Chipmunks: The Road Chip', 'Valkyrie', \"You Don't Mess with the Zohan\", 'Pixels', 'A.I. Artificial Intelligence', 'The Haunted Mansion', 'Contact', 'Hollow Man', 'The Interpreter', 'Percy Jackson: Sea of Monsters', 'Lara Croft Tomb Raider: The Cradle of Life', 'Now You See Me 2', 'The Saint', 'Spy Game', 'Mission to Mars', 'Rio', 'Bicentennial Man', 'Volcano', \"The Devil's Own\", 'K-19: The Widowmaker', 'Conan the Barbarian', 'Cinderella Man', 'The Nutcracker: The Untold Story', 'Seabiscuit', 'Twister', 'Cast Away', 'Happy Feet', 'The Bourne Supremacy', 'Air Force One', \"Ocean's Eleven\", 'The Three Musketeers', 'Hotel Transylvania', 'Enchanted', 'Safe House', '102 Dalmatians', 'Tower Heist', 'The Holiday', 'Enemy of the State', \"It's Complicated\", \"Ocean's Thirteen\", 'Open Season', 'Divergent', 'Enemy at the Gates', 'The Rundown']\n"
          ]
        }
      ]
    },
    {
      "cell_type": "code",
      "source": [
        "# getting the keywords from the user\n",
        "\n",
        "keywords = input(' Enter movie relevant keywords : ')"
      ],
      "metadata": {
        "colab": {
          "base_uri": "https://localhost:8080/"
        },
        "id": "WdXJ3AvXG4rJ",
        "outputId": "fad468a6-4c9f-4cdc-e8a1-747fff1f2fa8"
      },
      "execution_count": null,
      "outputs": [
        {
          "name": "stdout",
          "output_type": "stream",
          "text": [
            " Enter movie relevant keywords : evil\n"
          ]
        }
      ]
    },
    {
      "cell_type": "code",
      "source": [
        "# creating a list with all the keywords given in the dataset\n",
        "\n",
        "list_of_all_keywords = movies_data['keywords'].tolist()\n",
        "print(list_of_all_keywords)"
      ],
      "metadata": {
        "colab": {
          "base_uri": "https://localhost:8080/"
        },
        "id": "cT7YWl1VF-XI",
        "outputId": "f5f66f69-db0f-4d68-a53d-e061976344f0"
      },
      "execution_count": null,
      "outputs": [
        {
          "output_type": "stream",
          "name": "stdout",
          "text": [
            "['culture clash future space war space colony society', \"ocean drug abuse exotic island east india trading company love of one's life\", 'spy based on novel secret agent sequel mi6', 'dc comics crime fighter terrorist secret identity burglar', 'based on novel mars medallion space travel princess', \"dual identity amnesia sandstorm love of one's life forgiveness\", 'hostage magic horse fairy tale musical', 'marvel comic sequel superhero based on comic book vision', 'witch magic broom school of witchcraft wizardry', 'dc comics vigilante superhero based on comic book revenge', 'saving the world dc comics invulnerability sequel superhero', 'killing undercover secret agent british secret service', 'witch fortune teller bondage exotic island monster', 'texas horse survivor texas ranger partner', 'saving the world dc comics superhero based on comic book superhuman', 'based on novel fictional place brother sister relationship lion human being', 'new york shield marvel comic superhero based on comic book', 'sea captain mutiny sword prime minister', 'time travel time machine alien fictional government agency seeing the future', 'corruption elves dwarves orcs middle-earth (tolkien)', 'loss of father vigilante serum marvel comic scientific experiment', 'robin hood archer knight sherwood forest bow and arrow', 'elves dwarves orcs hobbit dragon', 'england compass experiment lordship uncle', 'film business screenplay show business film making film producer', 'shipwreck iceberg ship panic titanic', 'civil war war marvel comic sequel superhero', 'fight u.s. navy mind reading hong kong soccer', 'monster dna tyrannosaurus rex velociraptor island', 'spy secret agent sociopath killer art gallery', \"dual identity love of one's life pizza boy marvel comic sequel\", 'terrorist war on terror tennessee malibu marvel comic', 'based on novel fictional place queen fantasy alice in wonderland', 'mutant marvel comic based on comic book superhuman beast', 'monster dormitory games animation best friend', 'egypt sun chaos symbol artifact', 'sequel alien transformers giant robot robot', 'circus witch magic hope illusion', 'obsession marvel comic sequel based on comic book electrocution', 'artificial intelligence secret identity computer program dystopia computer', 'car race sequel comedy anthropomorphism best friend', 'dc comics transformation superhero alien alien infection', 'hostage college toy barbie animation', 'saving the world artificial intelligence prophecy san francisco cyborg', 'car race speed revenge suspense car', 'dystopia apocalypse zombie nuclear weapons multiple perspectives', '1970s mutant time travel marvel comic based on comic book', 'spacecraft friendship sequel futuristic space', 'based on fairy tale giant', 'based on novel infidelity obsession hope 3d', 'persia sandstorm brother against brother armageddon regent', 'dystopia giant robot giant monster apocalypse imax', 'moon spacecraft traitor bodyguard alien planet', 'saving the world riddle whip treasure mexico city', 'tyrannosaurus rex friends alternate history dinosaur fear', 'scotland rebel bravery kingdom archer', 'sequel stranded hatred space opera', 'romantic comedy', 'ambassador', 'civilization natural disaster end of the world disaster apocalypse', 'holiday based on novel victorian england money christmas eve', 'jupiter space woman director 3d interspecies romance', 'africa feral child tarzan jungle animal attack', 'saving the world witch based on novel brother sister relationship self sacrifice', 'mutant supernatural powers marvel comic superhero based on comic book', 'dc comics crime fighter secret identity scarecrow sadism', 'age difference central and south america balloon animation floating in the air', 'alien giant robot duringcreditsstinger', 'middle east arms dealer malibu marvel comic superhero', 'library clock film director key toy', 'steampunk based on tv series steam locomotive drag', '', 'dc comics shared universe anti hero secret mission villain', 'father son relationship daily life married couple support father', 'deja vu time warp restart dystopia war', 'ocean tattoo mutant water dystopia', 'terrorist secret hostage technology warhead', 'dream cartoon imaginary friend animation family', 'based on novel snake wolf elephant tiger', 'malibu marvel comic superhero based on comic book revenge', 'queen magic fairy tale immortality forest', 'fairy tale villain sleeping beauty dark fantasy based on fairy tale', 'leader colony post-apocalyptic dystopia forest', '', 'japan suicide samurai based on true story samurai sword', 'washington d.c. future shield marvel comic superhero', 'ogre 3d', 'inventor apocalypse destiny imax dreamer', 'brother brother relationship hero talent revenge best friend', 'support group product placement bullying racing arcade', 'santa claus nerd faith gift bell', 'alternate history alien invasion', 'flying blacksmith arena island night', 'saving the world artificial intelligence man vs machine cyborg killer robot', 'marvel comic spaceship space outer space orphan', 'saving the world artificial intelligence father son relationship single parent nasa', 'loss of lover dream kidnapping sleep subconsciousness', 'monster godzilla giant monster destruction kaiju', 'riddle elves dwarves orcs middle-earth (tolkien)', 'street gang car race undercover auto-tuning los angeles', 'diary navy funeral tea travel', 'cia mutant mine marvel comic superhero', 'revolution strong woman dystopia game of death 3d', 'witch fire wolf fountain magic', \"new year's eve fire drowning cataclysm loss of father\", 'based on novel clock queen sequel alice in wonderland', 'ambush sadness stage liberation of prisoners island', 'video game elves orcs magic chase', 'saving the world artificial intelligence cyborg killer robot future', 'based on novel magic good vs evil king narnia', 'nurse patriotism hawaii world war ii pilot', 'destroy transformation alien based on toy transformers', 'aristotle egypt greece persia elephant', 'prophecy witch loss of lover magic cutting the cord', \"magic dying and death broom sorcerer's apprentice school of witchcraft\", \"flying alcohol love of one's life forbidden love lovers\", 'saving the world lost civilisation post-apocalyptic dystopia matter of life and death', 'london england father son relationship chocolate factory worker based on novel', 'paris brother brother relationship expensive restaurant river cook', 'himalaya martial arts dc comics crime fighter secret identity', 'africa jealousy dance hunger lion', 'museum theodore roosevelt duringcreditsstinger amelia earhart smithsonian', 'corruption mutant boxer army marvel comic', 'saving the world artificial intelligence man vs machine flying philosophy', 'queen musical princess betrayal snowman', 'saving the world artificial intelligence man vs machine martial arts kung fu', 'marvel comic superhero based on comic book hostile takeover norse mythology', 'future chase post-apocalyptic dystopia australia', 'rome vatican based on novel symbolism christian', 'new mexico banishment shield marvel comic hammer', 'hamster kids and family animal cat vs dog duringcreditsstinger', 'dyr duringcreditsstinger', 'underworld hades mythology greek mythology zeus', 'witch imprisonment vampire curse fish out of water', 'london england spy austria villain sequel', 'father son relationship victorian england remake rural setting werewolf', 'factory worker tennis flower florist flower shop', 'martial arts hope fleet panda mission', 'fire ice war ship prince kingdom', 'berlin cia vatican white house secret identity', 'usa president conspiracy secret service the white house', 'boy alien rescue martian alien abduction', 'london england underworld return ship frog', 'flying magic fairy tale peter pan mermaid', 'father son relationship egypt intelligence adoption time travel', 'brother brother relationship adultery mythology beauty trojan war', 'madagascar 3d', 'laser british secret service secret service agent space based weapon', 'female friendship ghost hunting reboot ghost', 'saving the world paris moon cataclysm asteroid', 'saving the world secret identity sun glasses undercover space marine', 'denmark nordic mythology lie pride and vanity folk hero', 'china martial arts kung fu village panda', 'fight sequel mission explosion broken arm', 'dream santa claus nightmare easter bunny tooth fairy', 'based on novel desperation robber hold-up robbery remake', 'japan war crimes sense of guilt swordplay general', 'moses bible ancient egypt 3d ramses', 'spacecraft teleportation space mission parachute time travel', 'loss of lover spider thanksgiving bad boss hostility', 'father son relationship wife husband relationship sacrifice viking sequel', 'egypt underworld fight mythology nile', 'artificial intelligence u.s. navy aftercreditsstinger', 'dc comics secret identity mass murder retirement based on comic book', 'lapd house on fire revolver', 'california san francisco monster general gun', 'terror assassin secret technology missile', 'tyrant ironclad ship', 'battle assignment dystopia alien downfall scientist', 'new york usa world war ii nazis marvel comic', 'british mission oil heiress bilbao spain', 'naturalist frigate self surgery sea battle weevil', 'vampire romance villainess super strength imprinting', 'penguin musical aftercreditsstinger 3d', 'new york rio de janeiro marvel comic superhero based on comic book', 'london england england based on novel queen little girl', 'father son relationship rape based on novel mountains winter', 'underdog car race dream speed power', 'sheriff nevada pet rango chameleon', 'penguin madagascar 3d', 'paris corruption madrid assassin based on novel', 'china martial arts kung fu mentor snake', 'marvel comic superhero based on comic book aftercreditsstinger duringcreditsstinger', 'competition based on novel mentor secret factory', 'friendship spaceship space alien alien invasion', 'post traumatic stress  disorder new jersey airplane dystopia daughter', 'miami ku klux klan cuba undercover mexican standoff', 'adventure fairy-tale figure', 'assassination spy cia kidnapping cold war', 'bible god noah 3d', 'riddle captain treasure liquor treasure hunt', 'flying traitor magic cutting the cord child hero', 'missionary world war ii ranch australia british', 'dystopia', 'cataclysm asteroid leader comet animation', 'night watchman museum natural history history smithsonian', 'saving the world date prison secret identity fish', 'witch christmas party magic cutting the cord halloween', 'gold police operation partner revenge undead', 'exotic island blacksmith east india trading company gold marriage proposal', 'resistance post-apocalyptic dystopia war sequel', 'paris holy grail christianity monk based on novel', 'bird sequel jungle audition amazon rainforest', 'mutant marvel comic superhero based on comic book superhuman', 'brazil fbi freedom escape from prison car crash', 'detective inspector steampunk criminal mastermind', 'hades mythology greek mythology zeus medusa', 'oxygen falsely accused resistance mars double life', 'witch cave arabian scandinavia bagdad', 'assassin wolf maryland suicide by gunshot rooftop', 'double life dc comics dual identity crime fighter fictional place', 'holiday christmas party new love santa claus village', 'saving the world library cataclysm climate change greenhouse effect', 'terror spain cia helicopter secret identity', 'u.s. air force grocery jamaican meteorologist rescue boat', 'fire helicopter surfboard mask satellite', 'ocean shipwreck hindu tiger faith', \"mephisto religion and supernatural dying and death devil's son ghost world\", 'assassin amnesia flashback', 'robbery secret identity secret agent', 'android dystopia alien spin off creation', 'mouse falcon bird friendship family', 'dystopia space station class conflict', 'prison dystopia matter of life and death outer space intergalactic travel', 'cyborg future dystopia police remake', 'car race loss of brother chimp family duringcreditsstinger', 'love triangle baseball athlete aftercreditsstinger', 'spy airport gas station garage pilot', 'spacecraft dystopia space drone imax', 'showdown death star vision cult figure hatred', 'senate investigation army death star jedi', 'monster infant energy supply company rivalry', 'japan samurai mutant world war i marvel comic', 'prophecy senate queen taskmaster galaxy', 'stone age daughter father prehistoric ancient world', 'competition greece colosseum olympic games emperor', 'japan world war ii radio transmission marine corps u.s. army', 'witch magic fairy tale snow white huntsman', 'martial arts terrorist hero mutation van', 'space mission loss space astronaut trapped in space', 'helicopter small town mayor evacuation motel', 'brother brother relationship turtle sequel based on comic book ninja', 'teleportation transformation telekinesis portal marvel comic', 'museum skeleton night shift chaos genghis khan', 'california earthquake catastrophe disaster film 3d', 'london england england spy china news broadcast', 'rebel southern usa loss of son martial arts general', 'sequel faberg\\\\u00e9 egg dutch eastindian company second part', 'bomb assassin secret identity secret assault rifle', 'based on novel revolution dystopia sequel dystopic future', 'ladykiller pilot biography womanizer aviation', 'journalist forbidden love princess royal court 3d', 'bomb martial arts assassin vandalism nightclub', 'based on graphic novel ancient greece duringcreditsstinger sea battle hand to hand combat', 'moon magic based on comic book animation good vs evil', 'farm cow animal', 'based on novel revolution dystopia sequel dystopic future', 'father son relationship fight sport robot prizefighting', 'based on cartoon animation smurf', 'boat cruise computer disaster diamond', 'based on novel intolerance chosen one child prodigy futuristic', 'usa washington d.c. helicopter hostage fbi', 'elves dwarves orcs middle-earth (tolkien) hobbit', 'paris london england new york jules verne san francisco', 'usa transporter boxer biography muhammad', 'cat brother sister relationship boredom chaos step father', 'suicide artificial intelligence man vs machine chicago based on novel', 'crusade epic knight swordsman order of the templars', 'brother brother relationship based on novel cat mouse adoption', 'based on novel voodoo kiss princess animation', 'based on novel mars nasa isolation botanist', \"clone transplantation love of one's life dystopia genetics\", 'architect cellist friends anniversary', 'brother brother relationship detective car race car thief blackmail', 'rome gladiator arena senate roman empire', 'self-fulfilling prophecy washington d.c. evidence future hologram', 'flying car witch magic cutting the cord child hero', 'italy poker casino terrorist banker', 'gorilla space marine space suit revolution chimp', 'cyborg shotgun post-apocalyptic dystopia moral ambiguity', 'cinema hiding place machinegun prison guard escape from prison', 'underdog black people drug traffic drug smuggle society', 'spy terrorist florida gun kidnapping', 'hostage new york city new york subway subway train stock market', 'nurse cat father-in-law vomit kids and family', 'narration ceo fire truck shot in the shoulder zip line', 'suicide ambush showdown hostage traitor', 'bounty hunter hero plantation society friendship', 'paris based on novel judge obsession dance', 'central and south america birthday emperor palace kingdom', 'airplane number in title airplane crash violence beard', 'riddle treasure treasure hunt archaeologist archeology\\\\u00a0', 'based on novel mythical creature dragon fantasy world teenage hero', \"children's book igloo wolf costume swallowed whole hit with a rock\", 'fantasy miniature people', 'paris hotel false identity undercover agent romance', \"christianity sex new year's eve pastor nudity\", 'rebel journalist journalism loss of family slavery', 'corruption sex sexuality bank humor', 'riddle dc comics rose gotham city partner', 'moon asteroid space marine intelligence buenos aires', 'clone future dystopia ensemble cast duringcreditsstinger', 'owl', 'white russian sex dc comics beauty sexism', 'mercenary battle ancient greece hercules warrior', 'cyborg based on novel space marine mutiny loss of father', 'alien life-form dinosaur primate duringcreditsstinger', 'cia arms dealer sequel rescue mission hospital', 'undercover undercover agent extreme sports fbi agent 3d', 'baby mask viking', 'suicide ocean sea hunger shipwreck', 'moon casino bar nightclub future', 'weapon of mass destruction baghdad iraqi\\\\u00a0', 'based on comic strip family 3d charlie brown snoopy', 'dialogue confidence invention independent film', 'son ancient egypt bracelet', 'fire irish-american immigrant gang war pickpocket', 'forced prostitution child rape', 'sea world cup surfer wave surfboard', 'android housewife transformation', 'prisoners of war wound somalia warlord famine', 'politics politician election campaign \\\\u00a0north carolinam congressman', 'clone taxi cyborg egypt future', '', 'gold horse sword fight', 'blue footed booby prehistoric times melting ice badger elephant seal', 'cinderella magic prince fairy tale kingdom', 'rape 1970s evidence tree afterlife', 'father son relationship harbor underwater fish tank great barrier reef', 'elves orcs middle-earth (tolkien) based on novel suspicion', 'elves orcs middle-earth (tolkien) hobbit based on novel', 'magic chosen one dark fantasy witch hunter evil witch', 'treasure buddhist monk planetary configuration angkor wat illuminati', 'artificial intelligence technology nanotechnology computer virus super computer', 'exotic island dna paleontology tyrannosaurus rex velociraptor', 'intelligence zoo cage dystopia golden gate bridge', 'brother sister relationship family relationships single mother alternate reality mother child relationship', 'bomb cia russia escape courthouse', 'texas officer uprising alamo mexican', 'secret identity secret hero island wretch', 'exotic island treasure map ship scalp', 'monster greek mythology god poseidon \\\\u00a0 lightning bolt', 'secret identity sun glasses undercover space marine illegal immigration', 'museum prosecution identity crisis airplane flea market', 'runaway train', 'duringcreditsstinger', 'secret haunted house ouija board haunting missing girl', 'weather food science', 'ice age bridge insanity jungle dinosaur', 'himalaya photographer magazine iceland daydream', 'martial arts female friendship millionaire agent', 'undercover boston police friends mafia', 'homeland musical training daughter cricket', 'film making satire jungle movie star southeast asia', 'rape journalist based on novel journalism hacker', 'bomb taxi riddle robbery detective', 'detective scotland yard coffin black magic arrest', 'betrayal vengeance', 'sea atlantis animation underwater sea monster', 'chipmunk cgi talking animal aftercreditsstinger duringcreditsstinger', 'berlin suicide bomb assassination resistance', 'new york israel middle east hairdresser ladykiller', 'video game nerd alien attack 3d pixels', 'artificial intelligence prophecy prostitute android loss of mother', 'secret passage magic estate agent haunted house family vacation', 'based on novel nasa new mexico extraterrestrial technology prime number', 'killing human experimentation scientist invisible man science experiment', 'new york dictator africa destruction of a civilization assassination', 'poison hermes poseidon demigod golden fleece', 'riddle treasure medallion kenia alexander the great', 'london england china magic secret society vigilante', 'berlin russia gas master thief the saint', 'spy china cia cold war', 'mars spacecraft space travel alien long take', 'brazil pet bird musical canary', 'android hologram freedom futuristic robot', 'subway lava volcano volcanologist los angeles', 'new york terrorist anonymity northern ireland', 'submarine soviet union core melt north atlantic nuclear', 'gladiator repayment despot barbarian sword and sorcery', \"transporter netherlands world cup socially deprived family family's daily life\", '', 'horse race american dream racehorse great depression', 'wife husband relationship tornado twister oklahoma metereologist', 'exotic island suicide attempt volleyball loneliness airplane crash', 'ocean fish zoo penguin tap dancing', 'berlin assassin based on novel amnesia sniper', 'prison corruption journalist white house hostage', 'prison pickpocket strip club con artist atlantic city', 'number in title historical fiction musketeer 17th century 3d', 'witch magic mummy vampire dracula', 'poison queen fairy tale musical princess', 'cia violence safe house rogue agent cape town south africa', \"london england prison release from prison women's prison society for the prevention of cruelty to animals\", 'skyscraper thanksgiving billionaire parade fbi agent', 'holiday london england film making christmas party country house', 'corruption washington d.c. helicopter falsely accused identity', 'graduation ex husband woman director', 'casino thief revenge heist las vegas', 'hunter mountains garage grizzly bear bunny', 'based on novel dystopia youth dystopic future caste system', 'winter sniper world war ii stalingrad', 'hunter bounty bounty hunter fight amazon']\n"
          ]
        }
      ]
    },
    {
      "cell_type": "code",
      "source": [
        "# getting the genre of the movie from the user\n",
        "\n",
        "genre = input(' Enter movie''s genre : ')"
      ],
      "metadata": {
        "colab": {
          "base_uri": "https://localhost:8080/"
        },
        "id": "FPFKyJtzIDOr",
        "outputId": "fc407fe0-ec1e-468c-f0d9-7d7f76c3ab97"
      },
      "execution_count": null,
      "outputs": [
        {
          "name": "stdout",
          "output_type": "stream",
          "text": [
            " Enter movies genre : horror\n"
          ]
        }
      ]
    },
    {
      "cell_type": "code",
      "source": [
        "# creating a list with all the genres given in the dataset\n",
        "\n",
        "list_of_all_genres = movies_data['genres'].tolist()\n",
        "print(list_of_all_genres)"
      ],
      "metadata": {
        "colab": {
          "base_uri": "https://localhost:8080/"
        },
        "id": "2FoMGBblGWNM",
        "outputId": "2c592484-e578-4a9d-cf51-245465900736"
      },
      "execution_count": null,
      "outputs": [
        {
          "output_type": "stream",
          "name": "stdout",
          "text": [
            "['Action Adventure Fantasy Science Fiction', 'Adventure Fantasy Action', 'Action Adventure Crime', 'Action Crime Drama Thriller', 'Action Adventure Science Fiction', 'Fantasy Action Adventure', 'Animation Family', 'Action Adventure Science Fiction', 'Adventure Fantasy Family', 'Action Adventure Fantasy', 'Adventure Fantasy Action Science Fiction', 'Adventure Action Thriller Crime', 'Adventure Fantasy Action', 'Action Adventure Western', 'Action Adventure Fantasy Science Fiction', 'Adventure Family Fantasy', 'Science Fiction Action Adventure', 'Adventure Action Fantasy', 'Action Comedy Science Fiction', 'Action Adventure Fantasy', 'Action Adventure Fantasy', 'Action Adventure', 'Adventure Fantasy', 'Adventure Fantasy', 'Adventure Drama Action', 'Drama Romance Thriller', 'Adventure Action Science Fiction', 'Thriller Action Adventure Science Fiction', 'Action Adventure Science Fiction Thriller', 'Action Adventure Thriller', 'Action Adventure Fantasy', 'Action Adventure Science Fiction', 'Family Fantasy Adventure', 'Adventure Action Science Fiction Thriller', 'Animation Family', 'Science Fiction Action Adventure', 'Science Fiction Action Adventure', 'Fantasy Adventure Family', 'Action Adventure Fantasy', 'Adventure Action Science Fiction', 'Animation Family Adventure Comedy', 'Adventure Action Thriller Science Fiction', 'Animation Family Comedy', 'Action Science Fiction Thriller', 'Action', 'Action Drama Horror Science Fiction Thriller', 'Action Adventure Fantasy Science Fiction', 'Action Adventure Science Fiction', 'Action Family Fantasy', 'Drama Romance', 'Adventure Fantasy Action Romance', 'Action Science Fiction Adventure', 'Action Science Fiction Adventure', 'Adventure Action', 'Adventure Animation Family', 'Animation Adventure Comedy Family Action', 'Action Adventure Science Fiction', 'Animation Family', 'Action Comedy Crime Thriller', 'Action Adventure Science Fiction', 'Animation Drama', 'Science Fiction Fantasy Action Adventure', 'Action Adventure', 'Adventure Family Fantasy', 'Science Fiction', 'Drama Action Crime Thriller', 'Animation Comedy Family Adventure', 'Animation Family Adventure Science Fiction', 'Action Science Fiction Adventure', 'Adventure Drama Family', 'Action Adventure Comedy Science Fiction Western', 'Adventure Action Fantasy', 'Action Adventure Crime Fantasy Science Fiction', 'Fantasy Comedy Family', 'Action Science Fiction', 'Adventure Action', 'Adventure Action Thriller Science Fiction', 'Drama Comedy Animation Family', 'Family Adventure Drama Fantasy', 'Adventure Action Science Fiction', 'Adventure Fantasy Drama', 'Fantasy Adventure Action Family Romance', 'Science Fiction Action Drama Thriller', 'Action Adventure Science Fiction Romance', 'Drama Action Adventure Fantasy', 'Action Adventure Science Fiction', 'Comedy Adventure Fantasy Animation Family', 'Adventure Family Mystery Science Fiction', 'Adventure Family Animation Action Comedy', 'Family Animation Comedy Adventure', 'Adventure Animation Family Fantasy', 'Action Adventure Science Fiction', 'Fantasy Adventure Animation Family', 'Action Thriller Science Fiction', 'Action Science Fiction Adventure', 'Adventure Drama Science Fiction', 'Action Thriller Science Fiction Mystery Adventure', 'Action Adventure Drama Horror Science Fiction', 'Adventure Fantasy Action', 'Action Crime Thriller', 'Fantasy Drama Thriller Mystery Romance', 'Action Science Fiction Adventure', 'Action Adventure Science Fiction', 'Fantasy Adventure Action Comedy Drama', 'Adventure Action Drama Thriller', 'Fantasy', 'Fantasy Adventure Animation Comedy Family', 'Action Adventure Fantasy', 'Science Fiction Action Thriller Adventure', 'Adventure Family Fantasy', 'History Romance War', 'Adventure Science Fiction Action', 'War History Action Adventure Drama', 'Adventure Fantasy Family Mystery', 'Adventure Fantasy Family', 'Fantasy Action', 'Drama Horror Action Thriller Science Fiction', 'Adventure Comedy Family Fantasy', 'Animation Comedy Family Fantasy', 'Action Crime Drama', 'Family Animation', 'Adventure Fantasy Action Comedy Family', 'Adventure Action Thriller Science Fiction', 'Adventure Action Thriller Science Fiction', 'Animation Adventure Family', 'Adventure Action Thriller Science Fiction', 'Action Adventure Fantasy', 'Action Adventure Science Fiction Thriller', 'Thriller Mystery', 'Adventure Fantasy Action', 'Animation Family Adventure Comedy', 'Fantasy Action Adventure Family Comedy', 'Adventure', 'Comedy Fantasy', 'Action Adventure Thriller', 'Drama Horror Thriller', 'Family Animation Adventure Comedy', 'Animation Family', 'Action Adventure Family Fantasy', 'Adventure Action Thriller', 'Action Drama Thriller', 'Adventure Animation Family', 'Adventure Animation Comedy Family', 'Adventure Family Fantasy', 'Animation Adventure Family', 'Adventure Drama War', 'Animation Family', 'Adventure Action Thriller', 'Action Fantasy Comedy', 'Action Thriller Science Fiction Adventure', 'Action Adventure Comedy Science Fiction', 'Adventure Action Animation', 'Action Adventure Animation Comedy Family', 'Action Thriller Adventure', 'Fantasy Animation Family', 'Comedy', 'Drama Action War History', 'Adventure Drama Action', 'Science Fiction Action Adventure', 'Fantasy Action', 'Fantasy Action Adventure Animation Comedy', 'Fantasy', 'Action', 'Action Mystery Science Fiction', 'Action Adventure Comedy Crime Thriller', 'Drama Action Science Fiction', 'Adventure Action Science Fiction Thriller', 'Action Adventure Comedy Drama Mystery', 'Adventure Action Animation Fantasy Science Fiction', 'Action Adventure Science Fiction', 'Adventure Action Thriller', 'Adventure', 'Adventure Fantasy Drama Romance', 'Animation Comedy Family', 'Science Fiction Action Adventure', 'Adventure Family Fantasy', 'Western Drama Adventure Thriller', 'Animation Family', 'Animation Comedy Family Western Adventure', 'Family Animation Adventure Comedy', 'Action Drama Mystery Thriller', 'Adventure Animation Family Comedy', 'Science Fiction Action Adventure', 'Adventure Action Science Fiction', 'Fantasy Comedy Animation Science Fiction Family', 'Adventure Thriller Science Fiction', 'Adventure Action Comedy Thriller Crime', 'Action Adventure Animation Family Fantasy', 'Action Mystery Thriller', 'Drama Adventure', 'Adventure Animation Mystery', 'Adventure Fantasy Family', 'Drama', 'Science Fiction Action Adventure', 'Animation Family', 'Adventure Comedy Fantasy Family', 'Animation Action Comedy Family Science Fiction', 'Adventure Fantasy Family', 'Fantasy Action Comedy Crime', 'Adventure Fantasy Action', 'Science Fiction Adventure Thriller', 'Thriller Mystery', 'Animation Adventure Comedy Family', 'Adventure Action Science Fiction Thriller', 'Action Thriller Crime', 'Adventure Action Crime Mystery', 'Adventure Fantasy Action', 'Action Adventure Science Fiction', 'Adventure Fantasy Action', 'Action Thriller', 'Action Crime Fantasy', 'Family Comedy Fantasy', 'Action Adventure Science Fiction Thriller', 'Adventure Action Thriller', 'Drama', 'Adventure Fantasy Action Thriller', 'Adventure Drama Action', 'Thriller Action Fantasy Horror', 'Action Thriller', 'Action Adventure Comedy', 'Science Fiction Adventure Mystery', 'Family Adventure Animation Comedy', 'Science Fiction Action Drama Thriller', 'Action Science Fiction', 'Action Science Fiction', 'Action Family Science Fiction', 'Comedy Drama Romance', 'Action Comedy', 'Action Science Fiction Adventure Mystery', 'Science Fiction Adventure Action', 'Adventure Action Science Fiction', 'Animation Comedy Family', 'Action Science Fiction Adventure Fantasy', 'Adventure Action Science Fiction', 'Adventure Animation Comedy Family Fantasy', 'Fantasy Adventure Comedy Family', 'Drama Action History War', 'Action Adventure Drama', 'Science Fiction Action Adventure Fantasy Comedy', 'Science Fiction Thriller Drama', 'Action Adventure Thriller', 'Fantasy Action Adventure Comedy', 'Action Adventure Science Fiction', 'Action Adventure Comedy Family Fantasy', 'Action Drama Thriller', 'Adventure Action Thriller', 'Drama History War Action', 'Thriller Crime', 'Action Comedy Drama Thriller', 'Adventure Science Fiction Thriller', 'Drama', 'Comedy', 'Action Crime Comedy', 'Action War', 'Animation Family Adventure Comedy Fantasy', 'Animation Family', 'Adventure Science Fiction', 'Action Science Fiction Drama', 'Fantasy Family Comedy Animation', 'Action Adventure Thriller', 'Science Fiction Action Adventure', 'Action Thriller', 'Adventure Fantasy Action', 'Action Adventure Comedy', 'Drama', 'Comedy Fantasy Family', 'Action Science Fiction', 'Drama Action Adventure History War', 'Animation Fantasy Family Comedy', 'Romance Family Animation Music', 'Drama Adventure Science Fiction', 'Action Thriller Science Fiction Adventure', 'Comedy Romance', 'Action Crime Thriller', 'Action Drama Adventure', 'Action Thriller Science Fiction Mystery', 'Adventure Fantasy Family', 'Adventure Action Thriller', 'Thriller Science Fiction Action Adventure', 'Action Thriller Science Fiction', 'History Crime Drama', 'Drama Crime', 'Action Thriller', 'Thriller Drama Crime', 'Comedy Romance', 'Action Comedy Crime', 'Action Drama Mystery Thriller', 'Drama Western', 'Drama Animation Family', 'Adventure Animation Comedy Family Fantasy', 'Action Adventure Thriller', 'Adventure Action Thriller Mystery', 'Fantasy Action Adventure Family', 'Family Fantasy', 'Animation Adventure Family Fantasy', 'Action Thriller Romance', 'Action Fantasy Horror Mystery', 'Drama Thriller Action', 'Crime Drama Comedy', 'Action Crime Fantasy', 'Adventure Action Thriller Science Fiction', 'Drama Science Fiction', 'Animation Adventure Family Fantasy', 'Action Crime', 'Action Adventure', 'Adventure Animation Family Fantasy Science Fiction', 'Adventure Comedy Science Fiction', 'Action Adventure Thriller', 'Action Crime Thriller', 'Fantasy Comedy Family Adventure', 'Thriller Drama Adventure Action History', 'Action Comedy Science Fiction', 'War Action Adventure Drama Thriller', 'Animation', 'Crime Drama Mystery Thriller', 'Adventure Action Fantasy', 'Drama History Crime', 'Drama History War', 'Animation Comedy Family', 'Action Comedy Science Fiction', 'Action History War', 'Comedy', 'Adventure Fantasy Action Thriller Science Fiction', 'Comedy Drama Romance', 'Adventure Animation Comedy Family', 'Animation Comedy Adventure Family', 'Romance Fantasy Family Drama', 'Fantasy Drama', 'Animation Family', 'Adventure Fantasy Action', 'Adventure Fantasy Action', 'Adventure Fantasy', 'Adventure Fantasy Action Thriller', 'Thriller Science Fiction Drama Mystery', 'Adventure Action Thriller Science Fiction', 'Thriller Action Drama Science Fiction', 'Adventure Family Fantasy', 'Action Thriller', 'Western History War', 'Action Adventure Animation Family', 'Action Adventure', 'Adventure Fantasy Family', 'Action Adventure Comedy Science Fiction', 'Animation Comedy Family', 'Action Thriller', 'Action Comedy Crime Thriller', 'Drama Horror Mystery Thriller', 'Animation Comedy Family', 'Animation Comedy Family Adventure', 'Adventure Comedy Drama Fantasy', 'Action Adventure Comedy Crime Thriller', 'Drama Thriller Crime', 'Animation Family Adventure', 'Action Comedy', 'Thriller Crime Mystery Drama', 'Action Thriller', 'Action Adventure Crime Mystery', 'Drama', 'Animation Family Adventure Science Fiction', 'Adventure Animation Comedy Family', 'Drama Thriller History War', 'Comedy Action', 'Action Comedy Science Fiction', 'Drama Science Fiction Adventure', 'Thriller Fantasy Comedy Family Mystery', 'Drama Science Fiction Mystery', 'Action Science Fiction Thriller', 'Crime Thriller', 'Adventure Family Fantasy', 'Action Adventure Fantasy Thriller', 'Action Adventure Comedy Crime Mystery', 'Thriller Action Romance Science Fiction Adventure', 'Action Crime Thriller', 'Science Fiction', 'Animation Adventure Comedy Family', 'Comedy Science Fiction', 'Science Fiction Action Drama Thriller', 'Crime Thriller Drama', 'Drama History Thriller', 'Adventure Fantasy Action', 'Romance Drama History', 'Fantasy Action Family', 'Drama History', 'Action Adventure Drama', 'Adventure Drama', 'Animation Comedy', 'Action Drama Thriller', 'Action Thriller', 'Thriller Crime', 'Adventure Action Thriller', 'Animation Comedy Family Fantasy', 'Comedy Family Fantasy Romance', 'Action Thriller', 'Comedy Family', 'Action Comedy', 'Comedy Romance', 'Action Drama Thriller', 'Comedy Romance', 'Crime Thriller', 'Adventure Animation Family', 'Adventure Action Science Fiction', 'War', 'Adventure Action Comedy Thriller']\n"
          ]
        }
      ]
    },
    {
      "cell_type": "markdown",
      "source": [
        "# Adding more attributes"
      ],
      "metadata": {
        "id": "8y5plw4RjHX0"
      }
    },
    {
      "cell_type": "code",
      "source": [
        "\"\"\"import difflib\n",
        "\n",
        "def find_close_match(movie_name, genre=None, keywords=None):\n",
        "    movie_titles = [movie['title'] for movie in movie_data]\n",
        "    if genre:\n",
        "        movie_titles = [movie['title'] for movie in movie_data if movie['genre'] == genre]\n",
        "    if keywords:\n",
        "        movie_titles = [movie['title'] for movie in movie_data if set(keywords).issubset(set(movie['keywords']))]\n",
        "    close_matches = difflib.get_close_matches(movie_name, movie_titles)\n",
        "    return close_matches\n",
        "\n",
        "\n",
        "movie_name = 'The Shawshank Redemption'\n",
        "genre = 'Drama'\n",
        "keywords = ['prison', 'friendship']\n",
        "close_matches = find_close_match(movie_name, genre=genre, keywords=keywords)\n",
        "print(close_matches)\"\"\""
      ],
      "metadata": {
        "id": "XRh7HAydNXKu"
      },
      "execution_count": null,
      "outputs": []
    },
    {
      "cell_type": "code",
      "metadata": {
        "id": "u1HTkBLIOBjf"
      },
      "source": [
        "# finding the close match for the movie name given by the user\n",
        "\n",
        "find_close_match = difflib.get_close_matches(movie_name, list_of_all_titles)\n",
        "print(find_close_match)"
      ],
      "execution_count": null,
      "outputs": []
    },
    {
      "cell_type": "code",
      "metadata": {
        "id": "CgiC-enuOfXx"
      },
      "source": [
        "close_match = find_close_match[0]\n",
        "print(close_match)"
      ],
      "execution_count": null,
      "outputs": []
    },
    {
      "cell_type": "code",
      "metadata": {
        "id": "CNXJfY-FOw1I"
      },
      "source": [
        "# finding the index of the movie with title\n",
        "\n",
        "index_of_the_movie = movies_data[movies_data.title == close_match]['index'].values[0]\n",
        "print(index_of_the_movie)"
      ],
      "execution_count": null,
      "outputs": []
    },
    {
      "cell_type": "code",
      "metadata": {
        "id": "dyUeQZpvPbkx"
      },
      "source": [
        "# getting a list of similar movies\n",
        "\n",
        "similarity_score = list(enumerate(similarity[index_of_the_movie]))\n",
        "print(similarity_score)"
      ],
      "execution_count": null,
      "outputs": []
    },
    {
      "cell_type": "code",
      "metadata": {
        "id": "mMrxw-leQNtP"
      },
      "source": [
        "len(similarity_score)"
      ],
      "execution_count": null,
      "outputs": []
    },
    {
      "cell_type": "code",
      "metadata": {
        "id": "SkXgFLePQkHL"
      },
      "source": [
        "# sorting the movies based on their similarity score\n",
        "\n",
        "sorted_similar_movies = sorted(similarity_score, key = lambda x:x[1], reverse = True) \n",
        "print(sorted_similar_movies)"
      ],
      "execution_count": null,
      "outputs": []
    },
    {
      "cell_type": "code",
      "metadata": {
        "id": "JseMqew-RW6Q"
      },
      "source": [
        "# print the name of similar movies based on the index\n",
        "\n",
        "print('Movies suggested for you : \\n')\n",
        "\n",
        "i = 1\n",
        "\n",
        "for movie in sorted_similar_movies:\n",
        "  index = movie[0]\n",
        "  title_from_index = movies_data[movies_data.index==index]['title'].values[0]\n",
        "  if (i<5):\n",
        "    print(i, '.',title_from_index)\n",
        "    i+=1"
      ],
      "execution_count": null,
      "outputs": []
    },
    {
      "cell_type": "markdown",
      "metadata": {
        "id": "KmXULXO9TZun"
      },
      "source": [
        "Movie Recommendation Sytem"
      ]
    },
    {
      "cell_type": "code",
      "metadata": {
        "id": "QUDZfTSxTHDf"
      },
      "source": [
        "movie_name = input(' Enter your favourite movie name : ')\n",
        "\n",
        "list_of_all_titles = movies_data['title'].tolist()\n",
        "\n",
        "find_close_match = difflib.get_close_matches(movie_name, list_of_all_titles)\n",
        "\n",
        "close_match = find_close_match[0]\n",
        "\n",
        "index_of_the_movie = movies_data[movies_data.title == close_match]['index'].values[0]\n",
        "\n",
        "similarity_score = list(enumerate(similarity[index_of_the_movie]))\n",
        "\n",
        "sorted_similar_movies = sorted(similarity_score, key = lambda x:x[1], reverse = True) \n",
        "\n",
        "print('Movies suggested for you : \\n')\n",
        "\n",
        "i = 1\n",
        "\n",
        "for movie in sorted_similar_movies:\n",
        "  index = movie[0]\n",
        "  title_from_index = movies_data[movies_data.index==index]['title'].values[0]\n",
        "  if (i<5):\n",
        "    print(i, '.',title_from_index)\n",
        "    i+=1"
      ],
      "execution_count": null,
      "outputs": []
    },
    {
      "cell_type": "code",
      "metadata": {
        "id": "dgOXLbsWUAGK"
      },
      "source": [],
      "execution_count": null,
      "outputs": []
    }
  ]
}